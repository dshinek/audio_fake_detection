{
 "cells": [
  {
   "cell_type": "code",
   "execution_count": 18,
   "metadata": {},
   "outputs": [],
   "source": [
    "import pandas as pd\n",
    "import os\n",
    "import librosa\n",
    "import numpy as np\n",
    "import tqdm\n",
    "\n",
    "fake_data_folder = \"/Users/been/Downloads/archive/KAGGLE/AUDIO/FAKE\"\n",
    "real_data_folder = \"/Users/been/Downloads/archive/KAGGLE/AUDIO/REAL\"\n",
    "kaggle_folder = \"./kaggle_data_cache\""
   ]
  },
  {
   "cell_type": "code",
   "execution_count": 19,
   "metadata": {},
   "outputs": [],
   "source": [
    "fake_data_list = os.listdir(fake_data_folder)\n",
    "real_data_list = os.listdir(real_data_folder)"
   ]
  },
  {
   "cell_type": "code",
   "execution_count": 25,
   "metadata": {},
   "outputs": [
    {
     "name": "stderr",
     "output_type": "stream",
     "text": [
      "100%|██████████| 56/56 [00:17<00:00,  3.23it/s]\n",
      "100%|██████████| 8/8 [00:02<00:00,  2.75it/s]\n"
     ]
    }
   ],
   "source": [
    "df_list = []\n",
    "\n",
    "for fake_file_name in tqdm.tqdm(fake_data_list):\n",
    "    fake_file_path = os.path.join(fake_data_folder, fake_file_name)\n",
    "    y, sr = librosa.load(fake_file_path)\n",
    "    \n",
    "    file_len = y.shape[0]\n",
    "    file_idx = file_len // 40000\n",
    "    for i in range(file_idx):\n",
    "        np.save(os.path.join(kaggle_folder, fake_file_name.replace(\".wav\", f\"_{i}.npy\")), y[i*40000:(i+1)*40000])\n",
    "        df_list.append({\"id\": fake_file_name.replace(\".wav\", f\"_{i}\"), \"label\": \"fake\"})\n",
    "\n",
    "for real_file_name in tqdm.tqdm(real_data_list):\n",
    "    real_file_path = os.path.join(real_data_folder, real_file_name)\n",
    "    y, sr = librosa.load(real_file_path)\n",
    "\n",
    "    file_len = y.shape[0]\n",
    "    file_idx = file_len // 40000\n",
    "    for i in range(file_idx):\n",
    "        np.save(os.path.join(kaggle_folder, real_file_name.replace(\".wav\", f\"_{i}.npy\")), y[i*40000:(i+1)*40000])\n",
    "        df_list.append({\"id\": real_file_name.replace(\".wav\", f\"_{i}\"), \"label\": \"real\"})\n",
    "\n",
    "df = pd.DataFrame(df_list, columns=[\"id\", \"label\"])\n",
    "df.to_csv(os.path.join(\"./\", \"kaggle_data.csv\"), index=False)"
   ]
  },
  {
   "cell_type": "code",
   "execution_count": 26,
   "metadata": {},
   "outputs": [],
   "source": [
    "#i want to concat to csv file with id and label\n",
    "kaggle_df = pd.read_csv(\"./kaggle_data.csv\")\n",
    "new_train_df = pd.read_csv(\"./new_train_data.csv\")\n",
    "\n",
    "kaggle_df = pd.concat([kaggle_df, new_train_df], axis=0)\n",
    "kaggle_df.to_csv(\"./new_train_data_with_kaggle.csv\", index=False)"
   ]
  }
 ],
 "metadata": {
  "kernelspec": {
   "display_name": "Python 3",
   "language": "python",
   "name": "python3"
  },
  "language_info": {
   "codemirror_mode": {
    "name": "ipython",
    "version": 3
   },
   "file_extension": ".py",
   "mimetype": "text/x-python",
   "name": "python",
   "nbconvert_exporter": "python",
   "pygments_lexer": "ipython3",
   "version": "3.11.5"
  }
 },
 "nbformat": 4,
 "nbformat_minor": 2
}
